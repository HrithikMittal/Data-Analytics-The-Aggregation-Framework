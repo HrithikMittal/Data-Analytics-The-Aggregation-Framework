{
 "cells": [
  {
   "cell_type": "code",
   "execution_count": 29,
   "metadata": {},
   "outputs": [],
   "source": [
    "passYear = 2020\n",
    "centerNames  = ['Mechanical']\n",
    "baseDir = \"C:/tmp/\"\n",
    "dbName = 'lpu_myperfectice'"
   ]
  },
  {
   "cell_type": "code",
   "execution_count": 30,
   "metadata": {},
   "outputs": [],
   "source": [
    "# MongoDB Starter\n",
    "from pymongo import MongoClient\n",
    "from bson import ObjectId\n",
    "client = MongoClient('mongodb://localhost:27017/')\n",
    "db = client[dbName]"
   ]
  },
  {
   "cell_type": "code",
   "execution_count": 31,
   "metadata": {},
   "outputs": [],
   "source": [
    "import matplotlib.pyplot as plt\n",
    "import seaborn as sns\n",
    "%matplotlib inline\n",
    "sns.set_style('whitegrid')\n",
    "sns.set_context('poster')\n",
    "sns.set_palette('BuPu_r')\n",
    "plt.rcParams['figure.figsize'] = [16, 6]"
   ]
  },
  {
   "cell_type": "code",
   "execution_count": 32,
   "metadata": {},
   "outputs": [],
   "source": [
    "from datetime import datetime\n",
    "import random as random\n",
    "import string as string\n",
    "from slugify import slugify\n",
    "joiner = '-'"
   ]
  },
  {
   "cell_type": "code",
   "execution_count": 33,
   "metadata": {},
   "outputs": [],
   "source": [
    "import pandas as pd\n",
    "import numpy as np\n",
    "import pickle, json, math"
   ]
  },
  {
   "cell_type": "code",
   "execution_count": 34,
   "metadata": {},
   "outputs": [],
   "source": [
    "#Change this section as per test name\n",
    "section = 'Cognitive'  #Core, Programming, Cognitive"
   ]
  },
  {
   "cell_type": "code",
   "execution_count": 35,
   "metadata": {},
   "outputs": [],
   "source": [
    "#save data to Excel (to be attached as an annexture)\n",
    "file = slugify(joiner.join(centerNames)) + \"_\" + section + '_' + ''.join(random.choices(string.ascii_uppercase + string.digits, k=6)) + \".xlsx\"\n",
    "writer = pd.ExcelWriter(baseDir + file, engine='xlsxwriter')"
   ]
  },
  {
   "cell_type": "code",
   "execution_count": 36,
   "metadata": {},
   "outputs": [],
   "source": [
    "    testNames = ['Cognitive Skill (Quant-Verbal-Reasoning) - 3rd/4th Year - Baseline Test']\n",
    "#testNames = ['Programming Language (Psuedocode) - Baseline Test']\n",
    "#testNames = ['CSE/IT (Set2) - 3rd Year Baseline Test 1', 'CSE/IT (Set1) - 3rd Year Baseline Test 1']"
   ]
  },
  {
   "cell_type": "code",
   "execution_count": 37,
   "metadata": {},
   "outputs": [],
   "source": [
    "#ECE\n",
    "#testNames = ['Cognitive Skill (Quant-Verbal-Reasoning) - Baseline 1']\n",
    "#testNames = ['Programming Language Baseline Test 1']\n",
    "#testNames = ['ECE - 3rd Year - Baseline Test']"
   ]
  },
  {
   "cell_type": "code",
   "execution_count": 38,
   "metadata": {},
   "outputs": [],
   "source": [
    "#all students who are from a location and passingYear\n",
    "centers = []\n",
    "if len(centerNames) > 0:\n",
    "    centers = pd.DataFrame(list(db.locations.find({'name': {'$in':centerNames} }, {'name': 1})))\n",
    "    centers = list(centers['_id'])"
   ]
  },
  {
   "cell_type": "code",
   "execution_count": 39,
   "metadata": {},
   "outputs": [],
   "source": [
    "#Find test details\n",
    "tests = pd.DataFrame(list(db.practicesets.find({'title': {'$in': testNames}}, {'title':1,'totalQuestion':1, 'totalTime':1})))"
   ]
  },
  {
   "cell_type": "code",
   "execution_count": 40,
   "metadata": {},
   "outputs": [
    {
     "data": {
      "text/html": [
       "<div>\n",
       "<style scoped>\n",
       "    .dataframe tbody tr th:only-of-type {\n",
       "        vertical-align: middle;\n",
       "    }\n",
       "\n",
       "    .dataframe tbody tr th {\n",
       "        vertical-align: top;\n",
       "    }\n",
       "\n",
       "    .dataframe thead th {\n",
       "        text-align: right;\n",
       "    }\n",
       "</style>\n",
       "<table border=\"1\" class=\"dataframe\">\n",
       "  <thead>\n",
       "    <tr style=\"text-align: right;\">\n",
       "      <th></th>\n",
       "      <th>_id</th>\n",
       "      <th>title</th>\n",
       "      <th>totalQuestion</th>\n",
       "      <th>totalTime</th>\n",
       "    </tr>\n",
       "  </thead>\n",
       "  <tbody>\n",
       "    <tr>\n",
       "      <th>0</th>\n",
       "      <td>5c541d04373e87dd388c9af3</td>\n",
       "      <td>Cognitive Skill (Quant-Verbal-Reasoning) - 3rd...</td>\n",
       "      <td>30</td>\n",
       "      <td>2700</td>\n",
       "    </tr>\n",
       "  </tbody>\n",
       "</table>\n",
       "</div>"
      ],
      "text/plain": [
       "                        _id  \\\n",
       "0  5c541d04373e87dd388c9af3   \n",
       "\n",
       "                                               title  totalQuestion  totalTime  \n",
       "0  Cognitive Skill (Quant-Verbal-Reasoning) - 3rd...             30       2700  "
      ]
     },
     "execution_count": 40,
     "metadata": {},
     "output_type": "execute_result"
    }
   ],
   "source": [
    "tests"
   ]
  },
  {
   "cell_type": "code",
   "execution_count": 41,
   "metadata": {},
   "outputs": [],
   "source": [
    "#Generate summary of the test\n",
    "summary = {\n",
    "    'TestNames': [],\n",
    "    'Duration': 0,\n",
    "    'Mode': 'Proctored',\n",
    "    'Speed': 0,\n",
    "    'Accuracy': 0,\n",
    "    'StudentCount': 0,\n",
    "    'QuestionCount': 0,\n",
    "    'Complexity': {}\n",
    "}"
   ]
  },
  {
   "cell_type": "code",
   "execution_count": 42,
   "metadata": {},
   "outputs": [],
   "source": [
    "summary['TestNames'] = list(tests['title'])\n",
    "summary['QuestionCount'] = tests['totalQuestion'].mean()\n",
    "summary['Duration'] = math.floor(tests['totalTime'].mean()/60)"
   ]
  },
  {
   "cell_type": "code",
   "execution_count": 43,
   "metadata": {},
   "outputs": [],
   "source": [
    "#list(tests['_id'])"
   ]
  },
  {
   "cell_type": "code",
   "execution_count": 44,
   "metadata": {},
   "outputs": [],
   "source": [
    "#question's complexity analysis\n",
    "question_query = [\n",
    "    {\n",
    "        '$match':{\n",
    "            '_id': {'$in': list(tests['_id'])}\n",
    "        }\n",
    "    },\n",
    "    {\n",
    "        '$project':{\n",
    "        \t'questions':1,\n",
    "        \t'title':1\n",
    "        }\n",
    "    },\n",
    "    {\n",
    "        '$unwind': '$questions'\n",
    "    },\n",
    "    {\n",
    "\t\t'$group': { \n",
    "\t\t    '_id': {'title': '$title', 'complexity':'$questions.complexity'}, \n",
    "\t\t    'count': { '$sum': 1 }\n",
    "\t\t} \n",
    "    },\n",
    "    {\n",
    "        '$project':{\n",
    "        \t'name': '$_id.title',\n",
    "        \t'complexity': '$_id.complexity',\n",
    "        \t'count' : '$count'\n",
    "        }\n",
    "    },\n",
    "    {\n",
    "        '$group':{\n",
    "        \t'_id': '$complexity',\n",
    "        \t'AvgCount': {'$avg': '$count'}\n",
    "        }\n",
    "    },\n",
    "    {\n",
    "        '$sort':{\n",
    "            '_id':1\n",
    "        }\n",
    "    }\n",
    "]\n",
    "questions = list(db.practicesets.aggregate(question_query))"
   ]
  },
  {
   "cell_type": "code",
   "execution_count": 45,
   "metadata": {},
   "outputs": [],
   "source": [
    "summary['Complexity'] = questions"
   ]
  },
  {
   "cell_type": "code",
   "execution_count": 46,
   "metadata": {},
   "outputs": [],
   "source": [
    "if len(centers) > 0:\n",
    "    studentQuery = {\"role\": \"student\", 'lastLogin': {'$ne': ''}, \"passingYear\": passYear, 'locations': {'$in': centers}}\n",
    "else:\n",
    "    studentQuery = {\"role\": \"student\", 'lastLogin': {'$ne': ''}, \"passingYear\": passYear}"
   ]
  },
  {
   "cell_type": "code",
   "execution_count": 47,
   "metadata": {},
   "outputs": [
    {
     "data": {
      "text/plain": [
       "{'role': 'student',\n",
       " 'lastLogin': {'$ne': ''},\n",
       " 'passingYear': 2020,\n",
       " 'locations': {'$in': [ObjectId('5bc97b9b6dcc691c7447ea52')]}}"
      ]
     },
     "execution_count": 47,
     "metadata": {},
     "output_type": "execute_result"
    }
   ],
   "source": [
    "studentQuery"
   ]
  },
  {
   "cell_type": "code",
   "execution_count": 48,
   "metadata": {},
   "outputs": [],
   "source": [
    "students = pd.DataFrame(list(db.users.find(studentQuery,{\"name\":1, \"phoneNumber\":1, 'rollNumber': 1})))"
   ]
  },
  {
   "cell_type": "code",
   "execution_count": 49,
   "metadata": {},
   "outputs": [
    {
     "name": "stdout",
     "output_type": "stream",
     "text": [
      "<class 'pandas.core.frame.DataFrame'>\n",
      "RangeIndex: 342 entries, 0 to 341\n",
      "Data columns (total 4 columns):\n",
      "_id            342 non-null object\n",
      "name           342 non-null object\n",
      "phoneNumber    192 non-null object\n",
      "rollNumber     342 non-null int64\n",
      "dtypes: int64(1), object(3)\n",
      "memory usage: 10.8+ KB\n"
     ]
    }
   ],
   "source": [
    "students.info()"
   ]
  },
  {
   "cell_type": "code",
   "execution_count": 50,
   "metadata": {},
   "outputs": [],
   "source": [
    "mentee_pipeline = [\n",
    "    {\n",
    "        \"$match\" : {\n",
    "            \"name\": \"My Mentees\"\n",
    "        }\n",
    "    },\n",
    "    {\n",
    "        \"$unwind\" : \"$students\"\n",
    "    },\n",
    "    {\n",
    "        \"$project\" : {\n",
    "            \"mentor_id\" : \"$user\",\n",
    "            \"student_id\" : \"$students.studentId\"\n",
    "        }\n",
    "    },\n",
    "    {\n",
    "        '$lookup':{\n",
    "            'from': \"users\",\n",
    "            'localField': \"mentor_id\",\n",
    "            'foreignField': \"_id\",\n",
    "            'as': \"userInfo\"            \n",
    "        }\n",
    "    },\n",
    "    {\n",
    "        '$project':{\n",
    "            'mentorName': {'$arrayElemAt': ['$userInfo.name', 0]},\n",
    "            'studentId': '$student_id'\n",
    "        }\n",
    "    }\n",
    "]"
   ]
  },
  {
   "cell_type": "code",
   "execution_count": 51,
   "metadata": {},
   "outputs": [],
   "source": [
    "#mentors = pd.DataFrame(list(db.classrooms.aggregate(mentee_pipeline)))"
   ]
  },
  {
   "cell_type": "code",
   "execution_count": 52,
   "metadata": {},
   "outputs": [],
   "source": [
    "#students = students.merge(mentors, how=\"left\", left_on=\"_id\", right_on=\"studentId\", left_index=False, right_index=False)"
   ]
  },
  {
   "cell_type": "code",
   "execution_count": 53,
   "metadata": {},
   "outputs": [],
   "source": [
    "#students = students[['name', 'phoneNumber', 'mentorName', 'studentId', 'rollNumber']]"
   ]
  },
  {
   "cell_type": "code",
   "execution_count": 54,
   "metadata": {},
   "outputs": [],
   "source": [
    "#tests = pd.DataFrame(list(db.practicesets.aggregate({'title': '$in': testNames}, {'_id':1, 'title': 1})))"
   ]
  },
  {
   "cell_type": "code",
   "execution_count": 55,
   "metadata": {},
   "outputs": [],
   "source": [
    "subject_query = [\n",
    "\t{\n",
    "\t    '$match':{\n",
    "\t    \t'isAbandoned': False,\n",
    "            'practicesetId': {'$in':list(tests['_id'])},\n",
    "            'user': {'$in': list(students['_id'])}\n",
    "\t    }\n",
    "\t},\n",
    "    { \n",
    "        \"$sort\" : {\n",
    "            \"createdAt\" : 1.0\n",
    "        }\n",
    "    },\n",
    "\t{\n",
    "\t    '$group':{\n",
    "\t    \t\"_id\": { \"user\":\"$user\", \"test_id\"  :\"$practicesetId\"},\n",
    "\t    \t'subjects': {'$first': '$subjects'}\n",
    "\t    }\n",
    "\t},\n",
    "\t{\n",
    "\t\t'$project':{\n",
    "\t\t\t'user': '$_id.user',\n",
    "\t        'subjects': 1\n",
    "\t    }\n",
    "\t},\n",
    "\t{\n",
    "\t\t'$unwind': '$subjects'\n",
    "\t},\n",
    "\t{\n",
    "\t\t'$project': {\n",
    "\t    \t'user': 1,\n",
    "\t        'name': '$subjects.name',\n",
    "\t      \t'offscreenTime': {'$floor': {'$divide': [ '$subjects.offscreenTime', 60000]}},\n",
    "\t        'accr': {'$floor': {'$multiply': ['$subjects.accuracy', 100]}} ,\n",
    "            #'speed': {'$divide': ['$subjects.speed', 1000]},\n",
    "\t       \t'totalTime':{'$floor': {'$divide': [{'$multiply': ['$subjects.speed', {'$sum': ['$subjects.incorrect', '$subjects.missed', '$subjects.correct']}]}, 60000]}}\n",
    "\t    }\n",
    "\t},\n",
    "\t{\n",
    "\t    '$group':{\n",
    "\t    \t'_id': {'subject':'$name'},\n",
    "\t    \t'time': {'$sum': '$totalTime'},\n",
    "\t    \t'offscreen': {'$sum': '$offscreenTime'},\n",
    "\t    \t'accuracy': {'$avg': '$accr'},\n",
    "            'speed': {'$avg': '$speed'}\n",
    "\t    }\n",
    "\t},\n",
    "\t{\n",
    "\t    '$project':{\n",
    "\t    \t'subject': '$_id.subject',\n",
    "\t    \t'time': 1,\n",
    "\t    \t'offscreen': 1,\n",
    "\t    \t'accuracy': {'$floor': '$accuracy'},\n",
    "            'speed':{'$floor': '$speed'},\n",
    "\t        '_id': 0,\n",
    "\t    }\n",
    "\t},\n",
    "    {\n",
    "        '$sort':{\n",
    "            'accuracy': 1\n",
    "        }\n",
    "    }\n",
    "]"
   ]
  },
  {
   "cell_type": "code",
   "execution_count": 56,
   "metadata": {},
   "outputs": [],
   "source": [
    "subjectPerf = pd.DataFrame(list(db.attempts.aggregate(subject_query)))"
   ]
  },
  {
   "cell_type": "code",
   "execution_count": 57,
   "metadata": {},
   "outputs": [],
   "source": [
    "subjectPerf.head()\n",
    "subjectPerf.to_excel(writer, sheet_name='subject_summary', index=False)"
   ]
  },
  {
   "cell_type": "code",
   "execution_count": 58,
   "metadata": {},
   "outputs": [
    {
     "data": {
      "image/png": "[encoded data removed]",
      "text/plain": [
       "<Figure size 432x432 with 1 Axes>"
      ]
     },
     "metadata": {},
     "output_type": "display_data"
    }
   ],
   "source": [
    "plt.rcParams['figure.figsize'] = [6, 6]\n",
    "ax = sns.barplot(x='accuracy', y='subject', data=subjectPerf)\n",
    "#ct.plot.bar(stacked=True)\n",
    "sns.despine()\n",
    "file = slugify(joiner.join(centerNames)) + \"_subjectPerf_\" + ''.join(random.choices(string.ascii_uppercase + string.digits, k=6)) + \".png\"\n",
    "#ax.get_figure().savefig(baseDir + file)\n",
    "#plt.legend(title='Subject Level Accuracy Summary')"
   ]
  },
  {
   "cell_type": "code",
   "execution_count": 59,
   "metadata": {},
   "outputs": [],
   "source": [
    "#Student performance/accuracy by subject\n",
    "student_query = [\n",
    "\t{\n",
    "\t    '$match':{\n",
    "\t    \t'isAbandoned': False,\n",
    "            'practicesetId': {'$in':list(tests['_id'])},\n",
    "            'user': {'$in': list(students['_id'])}\n",
    "\t    }\n",
    "\t},\n",
    "    { \n",
    "        \"$sort\" : {\n",
    "            \"createdAt\" : 1.0\n",
    "        }\n",
    "    },\n",
    "\t{\n",
    "\t    '$group':{\n",
    "\t    \t\"_id\": { \"user\":\"$user\", \"test_id\"  :\"$practicesetId\"},\n",
    "\t    \t'subjects': {'$first': '$subjects'}\n",
    "\t    }\n",
    "\t},\n",
    "    {\n",
    "        '$lookup':{\n",
    "             'from': \"users\",\n",
    "             'localField': \"_id.user\",\n",
    "             'foreignField': \"_id\",\n",
    "             'as': \"attempt_users\"            \n",
    "        }\n",
    "    },\n",
    "\t{\n",
    "\t\t'$project':{\n",
    "\t\t\t'user': '$attempt_users.name',\n",
    "\t        'subjects': 1\n",
    "\t    }\n",
    "\t},\n",
    "\t{\n",
    "\t\t'$unwind': '$subjects'\n",
    "\t},\n",
    "\t{\n",
    "\t\t'$project': {\n",
    "\t    \t'user': {'$arrayElemAt': ['$user', 0]},\n",
    "\t        'name': '$subjects.name',\n",
    "            'speed': {'$divide': ['$subjects.speed', 1000]},\n",
    "\t      \t#'offscreenTime': {'$floor': {'$divide': [ '$subjects.offscreenTime', 60000]}},\n",
    "\t        'accr': {'$floor': {'$multiply': ['$subjects.accuracy', 100]}}\n",
    "\t       \t#'totalTime':{'$floor': {'$divide': [{'$multiply': ['$subjects.speed', {'$sum': ['$subjects.incorrect', '$subjects.missed', '$subjects.correct']}]}, 60000]}}\n",
    "\t    }\n",
    "\t},\n",
    "\t{\n",
    "\t    '$group':{\n",
    "\t    \t'_id': {'user': '$user', 'subject':'$name'},\n",
    "\t    \t'time': {'$sum': '$totalTime'},\n",
    "\t    \t'offscreen': {'$sum': '$offscreenTime'},\n",
    "\t    \t'accuracy': {'$avg': '$accr'},\n",
    "            'speed': {'$avg': '$speed'}\n",
    "\t    }\n",
    "\t},\n",
    "\t{\n",
    "\t    '$project':{\n",
    "\t        '_id': 0,\n",
    "            'user': '$_id.user',\n",
    "\t    \t'subject': '$_id.subject',\n",
    "\t    \t#'time': 1,\n",
    "\t    \t#'offscreen': 1,\n",
    "            'speed':{'$floor': '$speed'},\n",
    "\t    \t'accuracy': {'$floor': '$accuracy'}  \n",
    "\t    }\n",
    "\t},\n",
    "    {\n",
    "        '$sort':{\n",
    "            'subject': 1,\n",
    "            'accuracy': 1\n",
    "        }\n",
    "    }\n",
    "]"
   ]
  },
  {
   "cell_type": "code",
   "execution_count": 60,
   "metadata": {},
   "outputs": [],
   "source": [
    "studentPerf = pd.DataFrame(list(db.attempts.aggregate(student_query)))"
   ]
  },
  {
   "cell_type": "code",
   "execution_count": 61,
   "metadata": {},
   "outputs": [
    {
     "name": "stdout",
     "output_type": "stream",
     "text": [
      "<class 'pandas.core.frame.DataFrame'>\n",
      "RangeIndex: 333 entries, 0 to 332\n",
      "Data columns (total 4 columns):\n",
      "accuracy    333 non-null float64\n",
      "speed       333 non-null float64\n",
      "subject     333 non-null object\n",
      "user        333 non-null object\n",
      "dtypes: float64(2), object(2)\n",
      "memory usage: 10.5+ KB\n"
     ]
    }
   ],
   "source": [
    "studentPerf.info()"
   ]
  },
  {
   "cell_type": "code",
   "execution_count": 62,
   "metadata": {},
   "outputs": [],
   "source": [
    "#TBD - It has to be the average of two tests??\n",
    "summary['StudentCount'] = studentPerf['user'].nunique()\n",
    "summary['Accuracy'] = math.floor(studentPerf['accuracy'].mean())\n",
    "summary['Speed'] = math.floor(studentPerf['speed'].mean())"
   ]
  },
  {
   "cell_type": "code",
   "execution_count": 63,
   "metadata": {},
   "outputs": [],
   "source": [
    "def defineLevel(x):\n",
    "    if x <= 30:\n",
    "        return '1. (<=30%)'\n",
    "    elif x <= 50:\n",
    "        return '2. (> 30% & <= 50%)'\n",
    "    elif x <= 70:\n",
    "        return '3. (> 50% & <=70%)'\n",
    "    elif x <= 90:\n",
    "        return '4. (> 70% & <=90%)'\n",
    "    else:\n",
    "        return '5. (> 90%)'"
   ]
  },
  {
   "cell_type": "code",
   "execution_count": 64,
   "metadata": {},
   "outputs": [],
   "source": [
    "studentPerf['PerformanceLevel'] = studentPerf['accuracy'].apply(defineLevel)"
   ]
  },
  {
   "cell_type": "code",
   "execution_count": 65,
   "metadata": {},
   "outputs": [],
   "source": [
    "slg = pd.crosstab(studentPerf['subject'], studentPerf['PerformanceLevel'], margins=False)"
   ]
  },
  {
   "cell_type": "code",
   "execution_count": 66,
   "metadata": {},
   "outputs": [],
   "source": [
    "slg.to_excel(writer, sheet_name='studentPerfSummary', index=False)"
   ]
  },
  {
   "cell_type": "code",
   "execution_count": 67,
   "metadata": {},
   "outputs": [
    {
     "data": {
      "text/plain": [
       "<matplotlib.legend.Legend at 0x1b0eff876d8>"
      ]
     },
     "execution_count": 67,
     "metadata": {},
     "output_type": "execute_result"
    },
    {
     "data": {
      "image/png": "[encoded data removed]",
      "text/plain": [
       "<Figure size 2304x576 with 1 Axes>"
      ]
     },
     "metadata": {},
     "output_type": "display_data"
    }
   ],
   "source": [
    "plt.rcParams['figure.figsize'] = [32, 8]\n",
    "ax = slg.plot.bar()\n",
    "ax.set_xlabel('Subject')\n",
    "ax.set_ylabel('Count by accuracy')\n",
    "sns.despine()\n",
    "file = slugify(joiner.join(centerNames)) + \"_studentPerfSummary_\" + ''.join(random.choices(string.ascii_uppercase + string.digits, k=6)) + \".png\"\n",
    "#ax.get_figure().savefig(baseDir + file)\n",
    "plt.legend(loc='upper right', bbox_to_anchor=(0.8, -0.9), shadow=True, ncol=5)"
   ]
  },
  {
   "cell_type": "code",
   "execution_count": 68,
   "metadata": {},
   "outputs": [
    {
     "data": {
      "text/html": [
       "<div>\n",
       "<style scoped>\n",
       "    .dataframe tbody tr th:only-of-type {\n",
       "        vertical-align: middle;\n",
       "    }\n",
       "\n",
       "    .dataframe tbody tr th {\n",
       "        vertical-align: top;\n",
       "    }\n",
       "\n",
       "    .dataframe thead th {\n",
       "        text-align: right;\n",
       "    }\n",
       "</style>\n",
       "<table border=\"1\" class=\"dataframe\">\n",
       "  <thead>\n",
       "    <tr style=\"text-align: right;\">\n",
       "      <th></th>\n",
       "      <th>accuracy</th>\n",
       "      <th>speed</th>\n",
       "      <th>subject</th>\n",
       "      <th>user</th>\n",
       "      <th>PerformanceLevel</th>\n",
       "    </tr>\n",
       "  </thead>\n",
       "  <tbody>\n",
       "    <tr>\n",
       "      <th>0</th>\n",
       "      <td>0.0</td>\n",
       "      <td>771.0</td>\n",
       "      <td>Quantitative Aptitude</td>\n",
       "      <td>Mohammad Feroz Ahmad Qureshi</td>\n",
       "      <td>1. (&lt;=30%)</td>\n",
       "    </tr>\n",
       "    <tr>\n",
       "      <th>1</th>\n",
       "      <td>0.0</td>\n",
       "      <td>0.0</td>\n",
       "      <td>Quantitative Aptitude</td>\n",
       "      <td>Pankaj Chouhan</td>\n",
       "      <td>1. (&lt;=30%)</td>\n",
       "    </tr>\n",
       "    <tr>\n",
       "      <th>2</th>\n",
       "      <td>0.0</td>\n",
       "      <td>95.0</td>\n",
       "      <td>Quantitative Aptitude</td>\n",
       "      <td>chenu vishnu vardhan</td>\n",
       "      <td>1. (&lt;=30%)</td>\n",
       "    </tr>\n",
       "    <tr>\n",
       "      <th>3</th>\n",
       "      <td>0.0</td>\n",
       "      <td>9.0</td>\n",
       "      <td>Quantitative Aptitude</td>\n",
       "      <td>Kamlesh Kumar Sah</td>\n",
       "      <td>1. (&lt;=30%)</td>\n",
       "    </tr>\n",
       "    <tr>\n",
       "      <th>4</th>\n",
       "      <td>10.0</td>\n",
       "      <td>350.0</td>\n",
       "      <td>Quantitative Aptitude</td>\n",
       "      <td>ampolu sai</td>\n",
       "      <td>1. (&lt;=30%)</td>\n",
       "    </tr>\n",
       "  </tbody>\n",
       "</table>\n",
       "</div>"
      ],
      "text/plain": [
       "   accuracy  speed                subject                          user  \\\n",
       "0       0.0  771.0  Quantitative Aptitude  Mohammad Feroz Ahmad Qureshi   \n",
       "1       0.0    0.0  Quantitative Aptitude                Pankaj Chouhan   \n",
       "2       0.0   95.0  Quantitative Aptitude          chenu vishnu vardhan   \n",
       "3       0.0    9.0  Quantitative Aptitude             Kamlesh Kumar Sah   \n",
       "4      10.0  350.0  Quantitative Aptitude                    ampolu sai   \n",
       "\n",
       "  PerformanceLevel  \n",
       "0       1. (<=30%)  \n",
       "1       1. (<=30%)  \n",
       "2       1. (<=30%)  \n",
       "3       1. (<=30%)  \n",
       "4       1. (<=30%)  "
      ]
     },
     "execution_count": 68,
     "metadata": {},
     "output_type": "execute_result"
    }
   ],
   "source": [
    "studentPerf.head()"
   ]
  },
  {
   "cell_type": "code",
   "execution_count": 69,
   "metadata": {},
   "outputs": [],
   "source": [
    "for subject in studentPerf['subject'].unique():\n",
    "    col = 0\n",
    "    filtered = studentPerf[studentPerf['subject'] == subject]\n",
    "    for perfLevel in filtered['PerformanceLevel'].unique():\n",
    "        filtered2 = filtered[filtered['PerformanceLevel'] == perfLevel]\n",
    "        filtered3 = filtered2[['user', 'accuracy']]\n",
    "        filtered3.columns = [perfLevel, '%']\n",
    "        filtered3.to_excel(writer, sheet_name=subject[0:30], header=True, index=False, startcol=col)\n",
    "        col = col + 3"
   ]
  },
  {
   "cell_type": "code",
   "execution_count": 70,
   "metadata": {},
   "outputs": [],
   "source": [
    "#Find topics with lowest accuracy\n",
    "topic_query = [\n",
    "\t{\n",
    "\t    '$match':{\n",
    "\t    \t'isAbandoned': False,\n",
    "            'practiceSetInfo.title': {'$in':testNames} \n",
    "\t    }\n",
    "\t},\n",
    "    { \n",
    "        \"$sort\" : {\n",
    "            \"createdAt\" : 1.0\n",
    "        }\n",
    "    },\n",
    "\t{\n",
    "\t    '$group':{\n",
    "\t    \t\"_id\": { \"user\":\"$user\", \"test_id\"  :\"$practicesetId\"},\n",
    "\t    \t'subjects': {'$first': '$subjects'}\n",
    "\t    }\n",
    "\t},    \n",
    "    {\n",
    "        '$lookup':{\n",
    "             'from': \"users\",\n",
    "             'localField': \"_id.user\",\n",
    "             'foreignField': \"_id\",\n",
    "             'as': \"attempt_users\"            \n",
    "        }\n",
    "    },\n",
    "\t{\n",
    "\t\t'$project':{\n",
    "\t\t\t'user': '$attempt_users.name',\n",
    "\t        'subjects': 1\n",
    "\t    }\n",
    "\t},\n",
    "\t{\n",
    "\t\t'$unwind': '$subjects'\n",
    "\t},\n",
    "\t{\n",
    "\t    '$unwind': '$subjects.topics'\n",
    "\t},\n",
    "\t{\n",
    "\t\t'$project': {\n",
    "\t        'subject': '$subjects.name',\n",
    "\t        'topic': '$subjects.topics.name',\n",
    "\t      \t'offscreenTime': {'$floor': {'$divide': [ '$subjects.offscreenTime', 60000]}},\n",
    "\t        'accr': {'$floor': {'$multiply': ['$subjects.accuracy', 100]}} ,\n",
    "\t       \t'totalTime':{'$floor': {'$divide': [{'$multiply': ['$subjects.speed', {'$sum': ['$subjects.incorrect', '$subjects.missed', '$subjects.correct']}]}, 60000]}}\n",
    "\t    }\n",
    "\t},\n",
    "\t{\n",
    "\t    '$group':{\n",
    "\t    \t'_id': {'user': '$user', 'subject':'$subject', 'topic':'$topic'},\n",
    "\t    \t'time': {'$sum': '$totalTime'},\n",
    "\t    \t'offscreen': {'$sum': '$offscreenTime'},\n",
    "\t    \t'accuracy': {'$avg': '$accr'}\n",
    "\t    }\n",
    "\t},\n",
    "\t{\n",
    "\t    '$project':{\n",
    "\t        '_id': 0,\n",
    "            'user': '$_id.user',\n",
    "\t    \t'subject': '$_id.subject',\n",
    "\t    \t'topic': '$_id.topic',\n",
    "\t    \t'time': 1,\n",
    "\t    \t'offscreen': 1,\n",
    "\t    \t'accuracy': {'$floor': '$accuracy'}    \n",
    "\t    }\n",
    "\t},\n",
    "\t{\n",
    "\t    '$match':{\n",
    "\t    \t'accuracy': {'$lt': 50}\n",
    "\t    }\n",
    "\t},\n",
    "    {\n",
    "        '$sort':{\n",
    "            'accuracy': 1,\n",
    "            'topic': 1,\n",
    "            'subject': 1\n",
    "        }\n",
    "    }\n",
    "]"
   ]
  },
  {
   "cell_type": "code",
   "execution_count": 71,
   "metadata": {},
   "outputs": [],
   "source": [
    "topicPerf = pd.DataFrame(list(db.attempts.aggregate(topic_query)))\n",
    "tp = topicPerf[['subject', 'topic', 'accuracy']]"
   ]
  },
  {
   "cell_type": "code",
   "execution_count": 72,
   "metadata": {},
   "outputs": [],
   "source": [
    "tp.to_excel(writer, sheet_name='weakest_topics', index=False)"
   ]
  },
  {
   "cell_type": "code",
   "execution_count": 73,
   "metadata": {},
   "outputs": [],
   "source": [
    "#save summary\n",
    "filename = baseDir + slugify(joiner.join(centerNames)) + \"_\" + section + \"_summary_\" + ''.join(random.choices(string.ascii_uppercase + string.digits, k=6)) + \".json\"\n",
    "json.dump(summary, open(filename, 'w'))"
   ]
  },
  {
   "cell_type": "code",
   "execution_count": 74,
   "metadata": {},
   "outputs": [],
   "source": [
    "writer.save()"
   ]
  }
 ],
 "metadata": {
  "hide_input": false,
  "kernelspec": {
   "display_name": "Python 3",
   "language": "python",
   "name": "python3"
  },
  "language_info": {
   "codemirror_mode": {
    "name": "ipython",
    "version": 3
   },
   "file_extension": ".py",
   "mimetype": "text/x-python",
   "name": "python",
   "nbconvert_exporter": "python",
   "pygments_lexer": "ipython3",
   "version": "3.7.1"
  }
 },
 "nbformat": 4,
 "nbformat_minor": 2
}
